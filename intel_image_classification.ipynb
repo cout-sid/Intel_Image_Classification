{
  "nbformat": 4,
  "nbformat_minor": 0,
  "metadata": {
    "colab": {
      "provenance": [],
      "gpuType": "T4"
    },
    "kernelspec": {
      "name": "python3",
      "display_name": "Python 3"
    },
    "language_info": {
      "name": "python"
    },
    "accelerator": "GPU"
  },
  "cells": [
    {
      "cell_type": "markdown",
      "source": [
        "#*Intel Image Classification*\n",
        "\n",
        "Steps in this project:\n",
        "\n",
        "1.   Create a DataFrame having pathnames and label of images\n",
        "2.   Preprocessing the images\n",
        "3.   Creating batches for the model\n",
        "4.   Building the model\n",
        "5.   Fine tuning the pre-trained model on our dataset\n",
        "6.   Check the prediction accuracy\n",
        "\n"
      ],
      "metadata": {
        "id": "YUHfxgYiOy6p"
      }
    },
    {
      "cell_type": "markdown",
      "source": [
        "###Import the required libraries"
      ],
      "metadata": {
        "id": "TcjWpl3ZSJBp"
      }
    },
    {
      "cell_type": "code",
      "execution_count": 1,
      "metadata": {
        "id": "SKOva4AUliTB"
      },
      "outputs": [],
      "source": [
        "import pandas as pd\n",
        "from tensorflow import keras\n",
        "import numpy as np\n",
        "import tensorflow_hub as hub\n",
        "import os\n",
        "import tensorflow as tf\n",
        "import random\n",
        "import pickle\n",
        "from IPython.display import display, Image\n",
        "\n",
        "\n"
      ]
    },
    {
      "cell_type": "markdown",
      "source": [
        "###Model url for the model"
      ],
      "metadata": {
        "id": "AfTAL2PZScJT"
      }
    },
    {
      "cell_type": "code",
      "source": [
        "MODEL_URL=\"https://tfhub.dev/google/imagenet/mobilenet_v3_small_100_224/classification/5\"\n",
        "INPUT_SHAPE=(None,224,224,3);\n",
        "OUTPUT_SHAPE=6;"
      ],
      "metadata": {
        "id": "nUmLJ75Vp8au"
      },
      "execution_count": 2,
      "outputs": []
    },
    {
      "cell_type": "markdown",
      "source": [
        "###Create pathnames and label using os library"
      ],
      "metadata": {
        "id": "QMq97XRvSmdJ"
      }
    },
    {
      "cell_type": "code",
      "source": [
        "\n",
        "categories=np.array([\"buildings\",\"forest\",\"glacier\",\"mountain\",\"sea\",\"street\"])\n",
        "count=0\n",
        "\n",
        "filenames=pd.DataFrame(columns=[\"path\",\"label\"])\n",
        "\n",
        "for ele in categories:\n",
        "  filenames_temp = [\"drive/My Drive/Machine Learning/intel_image/seg_train/seg_train/\" + ele+\"/\"+ fname  for fname in os.listdir(\"drive/My Drive/Machine Learning/intel_image/seg_train/seg_train/\"+ele+\"/\")]\n",
        "  filenames_temp=pd.DataFrame(filenames_temp)\n",
        "  filenames_temp[\"label\"]=count\n",
        "  filenames_temp.rename(columns={0:\"path\"},inplace=True)\n",
        "  count+=1\n",
        "  filenames=pd.concat([filenames,filenames_temp],ignore_index=True)\n"
      ],
      "metadata": {
        "id": "isHR9NOk8s1H"
      },
      "execution_count": 3,
      "outputs": []
    },
    {
      "cell_type": "code",
      "source": [
        "#filenames.head()[\"path\"]\n",
        "print(filenames.loc[42][\"path\"])\n",
        "print(filenames.loc[42][\"label\"])"
      ],
      "metadata": {
        "colab": {
          "base_uri": "https://localhost:8080/"
        },
        "id": "uoS399tS2Osa",
        "outputId": "d8b9de58-ef7e-4875-b603-370fb725fdc2"
      },
      "execution_count": 4,
      "outputs": [
        {
          "output_type": "stream",
          "name": "stdout",
          "text": [
            "drive/My Drive/Machine Learning/intel_image/seg_train/seg_train/buildings/8577.jpg\n",
            "0\n"
          ]
        }
      ]
    },
    {
      "cell_type": "code",
      "source": [
        "Image(filenames.loc[42][\"path\"])"
      ],
      "metadata": {
        "colab": {
          "base_uri": "https://localhost:8080/",
          "height": 167
        },
        "id": "LHhIYx3y5uoN",
        "outputId": "ec8ec1ee-ec01-42b6-9527-ee13a658eb4a"
      },
      "execution_count": 5,
      "outputs": [
        {
          "output_type": "execute_result",
          "data": {
            "image/jpeg": "[encoded data removed]",
            "text/plain": [
              "<IPython.core.display.Image object>"
            ]
          },
          "metadata": {},
          "execution_count": 5
        }
      ]
    },
    {
      "cell_type": "code",
      "source": [
        "categories=np.array([\"buildings\",\"forest\",\"glacier\",\"mountain\",\"sea\",\"street\"])\n",
        "\n",
        "filenames_testval=pd.DataFrame(columns=[\"path\",\"label\"])\n",
        "count=0\n",
        "\n",
        "for ele in categories:\n",
        "\n",
        "  filenames_temp = [\"drive/My Drive/Machine Learning/intel_image/seg_test/seg_test/\" + ele+\"/\"+fname  for fname in os.listdir(\"drive/My Drive/Machine Learning/intel_image/seg_test/seg_test/\"+ele+\"/\")]\n",
        "  filenames_temp=pd.DataFrame(filenames_temp)\n",
        "  filenames_temp[\"label\"]=count\n",
        "  filenames_temp.rename(columns={0:\"path\"},inplace=True)\n",
        "  count=count+1\n",
        "  filenames_testval=pd.concat([filenames_testval,filenames_temp],ignore_index=True)"
      ],
      "metadata": {
        "id": "dE-m4TXxx1bC"
      },
      "execution_count": 6,
      "outputs": []
    },
    {
      "cell_type": "code",
      "source": [
        "print(filenames_testval['path'][1099])\n",
        "print(filenames_testval['label'][1099])\n",
        "\n",
        "Image(filenames_testval['path'][1099])"
      ],
      "metadata": {
        "colab": {
          "base_uri": "https://localhost:8080/",
          "height": 202
        },
        "id": "FoDw5Hc17cBk",
        "outputId": "244f96f2-e45d-4386-e59a-2b0b1145d65f"
      },
      "execution_count": 7,
      "outputs": [
        {
          "output_type": "stream",
          "name": "stdout",
          "text": [
            "drive/My Drive/Machine Learning/intel_image/seg_test/seg_test/street/22408.jpg\n",
            "5\n"
          ]
        },
        {
          "output_type": "execute_result",
          "data": {
            "image/jpeg": "[encoded data removed]",
            "text/plain": [
              "<IPython.core.display.Image object>"
            ]
          },
          "metadata": {},
          "execution_count": 7
        }
      ]
    },
    {
      "cell_type": "code",
      "source": [
        "from sklearn.model_selection import train_test_split"
      ],
      "metadata": {
        "id": "RJFvPSlrai8t"
      },
      "execution_count": 8,
      "outputs": []
    },
    {
      "cell_type": "code",
      "source": [
        "\n",
        "X_Combine=filenames_testval[\"path\"]\n",
        "\n",
        "Y_Combine=filenames_testval[\"label\"]\n",
        "\n",
        "X_val, X_test, Y_val, Y_test = train_test_split(X_Combine,\n",
        "                                                Y_Combine,\n",
        "                                                test_size=0.5,\n",
        "                                                random_state=42)\n",
        "X_val=X_val.to_list()\n",
        "Y_val=Y_val.to_list()\n",
        "\n",
        "X_test=X_test.to_list()\n",
        "Y_test=Y_test.to_list()\n"
      ],
      "metadata": {
        "id": "MorDSWs9zXyj"
      },
      "execution_count": 9,
      "outputs": []
    },
    {
      "cell_type": "code",
      "source": [],
      "metadata": {
        "id": "Vin9IP5sah4x"
      },
      "execution_count": null,
      "outputs": []
    },
    {
      "cell_type": "code",
      "source": [
        "#taking part of data to reduce training time\n",
        "filenames=filenames.sample(frac=0.5)\n",
        "\n",
        "X=filenames[\"path\"]\n",
        "Y=filenames[\"label\"]\n",
        "\n",
        "X=X.to_list()\n",
        "Y=Y.to_list()"
      ],
      "metadata": {
        "id": "Ie8wvveYsPno"
      },
      "execution_count": 10,
      "outputs": []
    },
    {
      "cell_type": "markdown",
      "source": [
        "### Function for pre-processing the images using tensorflow"
      ],
      "metadata": {
        "id": "-WDSY_bXTPoP"
      }
    },
    {
      "cell_type": "code",
      "source": [
        "\n",
        "# Define image size\n",
        "IMG_SIZE = 224\n",
        "\n",
        "def process_image(image_path):\n",
        "  \"\"\"\n",
        "  Takes an image file path and turns it into a Tensor.\n",
        "  \"\"\"\n",
        "\n",
        "  # Read in image file\n",
        "  image = tf.io.read_file(image_path)\n",
        "  # Turn the jpeg image into numerical Tensor with 3 colour channels (Red, Green, Blue)\n",
        "  image = tf.image.decode_jpeg(image, channels=3)\n",
        "  # Convert the colour channel values from 0-225 values to 0-1 values\n",
        "  image = tf.image.convert_image_dtype(image, tf.float32)\n",
        "  # Resize the image to our desired size (224, 224)\n",
        "  image = tf.image.resize(image, size=[IMG_SIZE, IMG_SIZE])\n",
        "  return image\n"
      ],
      "metadata": {
        "id": "Mgt8r5D_suCi"
      },
      "execution_count": 11,
      "outputs": []
    },
    {
      "cell_type": "code",
      "source": [
        "def get_image_label(image_path, label):\n",
        "\n",
        "  image = process_image(image_path)\n",
        "  return image, label"
      ],
      "metadata": {
        "id": "u1_Y1U22tXmn"
      },
      "execution_count": 12,
      "outputs": []
    },
    {
      "cell_type": "markdown",
      "source": [
        "### Function to create batches for training"
      ],
      "metadata": {
        "id": "t0rmoVkIThUF"
      }
    },
    {
      "cell_type": "code",
      "source": [
        "BATCH_SIZE=32\n",
        "\n",
        "# Create a function to turn data into batches\n",
        "def create_data_batches(x, y, batch_size=BATCH_SIZE, validation_data=False, test_data=False):\n",
        "\n",
        "\n",
        "  # In validation dataset we do shuffle labels.\n",
        "  if validation_data:\n",
        "    print(\"Creating validation data batches...\")\n",
        "    data = tf.data.Dataset.from_tensor_slices((tf.constant(x), #filepaths\n",
        "                                               tf.constant(y))) # labels\n",
        "    data = data.shuffle(buffer_size=len(x))\n",
        "    data_batch = data.map(get_image_label).batch(BATCH_SIZE)\n",
        "    return data_batch\n",
        "\n",
        "  # If the data if a test dataset, we don't need to shuffle it as we will check the accuracy using it.\n",
        "  elif test_data:\n",
        "    print(\"Creating test data batches...\")\n",
        "    data = tf.data.Dataset.from_tensor_slices((tf.constant(x), # filepaths\n",
        "                                               tf.constant(y))) # labels\n",
        "\n",
        "    data = data.map(get_image_label)\n",
        "    data_batch = data.batch(BATCH_SIZE)\n",
        "\n",
        "\n",
        "    return data_batch\n",
        "\n",
        "  else:\n",
        "    # If the data is a training dataset, we shuffle it\n",
        "    print(\"Creating training data batches...\")\n",
        "    # Turn filepaths and labels into Tensors\n",
        "    data = tf.data.Dataset.from_tensor_slices((tf.constant(x), # filepaths\n",
        "                                              tf.constant(y))) # labels\n",
        "\n",
        "    data = data.shuffle(buffer_size=len(x))\n",
        "    data = data.map(get_image_label)\n",
        "\n",
        "    # Turn the data into batches\n",
        "    data_batch = data.batch(BATCH_SIZE)\n",
        "  return data_batch"
      ],
      "metadata": {
        "id": "p9zGZyM_tbY0"
      },
      "execution_count": 13,
      "outputs": []
    },
    {
      "cell_type": "markdown",
      "source": [
        "###Creating batches..."
      ],
      "metadata": {
        "id": "xufFJPRCUAhQ"
      }
    },
    {
      "cell_type": "code",
      "source": [
        "\n",
        "train_dataset=create_data_batches(X,Y)\n",
        "validation_dataset=create_data_batches(X_val,Y_val,validation_data=True)\n",
        "test_dataset=create_data_batches(X_test,Y_test,test_data=True)\n"
      ],
      "metadata": {
        "colab": {
          "base_uri": "https://localhost:8080/"
        },
        "id": "MYsBY4w1vGK5",
        "outputId": "78adb391-1b5c-4deb-fa2b-ef0523fcd88b"
      },
      "execution_count": 14,
      "outputs": [
        {
          "output_type": "stream",
          "name": "stdout",
          "text": [
            "Creating training data batches...\n",
            "Creating validation data batches...\n",
            "Creating test data batches...\n"
          ]
        }
      ]
    },
    {
      "cell_type": "markdown",
      "source": [
        "###Create the model"
      ],
      "metadata": {
        "id": "RhMgBqqjUFlE"
      }
    },
    {
      "cell_type": "code",
      "source": [
        "\n",
        "def create_model(input_shape=INPUT_SHAPE, output_shape=OUTPUT_SHAPE, model_url=MODEL_URL):\n",
        "  print(\"Building model with:\", MODEL_URL)\n",
        "\n",
        "  # Setup the model layers\n",
        "  model = tf.keras.Sequential([\n",
        "    hub.KerasLayer(MODEL_URL), # Layer 1 (input layer)\n",
        "    tf.keras.layers.Dropout(0.3), #Layer 2(dropout layer)\n",
        "    tf.keras.layers.Dense(units=OUTPUT_SHAPE,\n",
        "                          activation=\"softmax\") # Layer 3 (output layer)\n",
        "  ])\n",
        "\n",
        "  # Compile the model\n",
        "  model.compile(\n",
        "      loss=tf.keras.losses.SparseCategoricalCrossentropy(),\n",
        "      optimizer=tf.keras.optimizers.Adam(),\n",
        "      metrics=[\"accuracy\"]\n",
        "  )\n",
        "\n",
        "  # Build the model\n",
        "  model.build(INPUT_SHAPE) # Let the model know what kind of inputs it'll be getting\n",
        "\n",
        "  return model"
      ],
      "metadata": {
        "id": "UkLfD-Bqz6Pm"
      },
      "execution_count": 15,
      "outputs": []
    },
    {
      "cell_type": "code",
      "source": [
        "model = create_model()\n",
        "model.summary()"
      ],
      "metadata": {
        "colab": {
          "base_uri": "https://localhost:8080/"
        },
        "id": "-qqU_o1x0YMN",
        "outputId": "22df5500-4dd9-4f9e-c4d1-14abc7869f5b"
      },
      "execution_count": 16,
      "outputs": [
        {
          "output_type": "stream",
          "name": "stdout",
          "text": [
            "Building model with: https://tfhub.dev/google/imagenet/mobilenet_v3_small_100_224/classification/5\n",
            "Model: \"sequential\"\n",
            "_________________________________________________________________\n",
            " Layer (type)                Output Shape              Param #   \n",
            "=================================================================\n",
            " keras_layer (KerasLayer)    (None, 1001)              2555993   \n",
            "                                                                 \n",
            " dropout (Dropout)           (None, 1001)              0         \n",
            "                                                                 \n",
            " dense (Dense)               (None, 6)                 6012      \n",
            "                                                                 \n",
            "=================================================================\n",
            "Total params: 2,562,005\n",
            "Trainable params: 6,012\n",
            "Non-trainable params: 2,555,993\n",
            "_________________________________________________________________\n"
          ]
        }
      ]
    },
    {
      "cell_type": "markdown",
      "source": [
        "### Creating the model"
      ],
      "metadata": {
        "id": "TaXXqikCUOky"
      }
    },
    {
      "cell_type": "code",
      "source": [
        "history=model.fit(train_dataset, epochs=20)\n",
        "#we executed the training without validation dataset because it was taking too long even on gpu(google colab)"
      ],
      "metadata": {
        "colab": {
          "base_uri": "https://localhost:8080/"
        },
        "id": "SjwSrMywOiA4",
        "outputId": "55b5fb71-84c3-4f63-960b-2e1b28acbf4a"
      },
      "execution_count": 19,
      "outputs": [
        {
          "output_type": "stream",
          "name": "stdout",
          "text": [
            "Epoch 1/20\n",
            "220/220 [==============================] - 323s 1s/step - loss: 0.3215 - accuracy: 0.8875\n",
            "Epoch 2/20\n",
            "220/220 [==============================] - 16s 72ms/step - loss: 0.2858 - accuracy: 0.8988\n",
            "Epoch 3/20\n",
            "220/220 [==============================] - 16s 71ms/step - loss: 0.2576 - accuracy: 0.9082\n",
            "Epoch 4/20\n",
            "220/220 [==============================] - 16s 71ms/step - loss: 0.2397 - accuracy: 0.9141\n",
            "Epoch 5/20\n",
            "220/220 [==============================] - 16s 71ms/step - loss: 0.2321 - accuracy: 0.9163\n",
            "Epoch 6/20\n",
            "220/220 [==============================] - 16s 72ms/step - loss: 0.2240 - accuracy: 0.9194\n",
            "Epoch 7/20\n",
            "220/220 [==============================] - 16s 70ms/step - loss: 0.2183 - accuracy: 0.9244\n",
            "Epoch 8/20\n",
            "220/220 [==============================] - 16s 71ms/step - loss: 0.2152 - accuracy: 0.9184\n",
            "Epoch 9/20\n",
            "220/220 [==============================] - 16s 71ms/step - loss: 0.2148 - accuracy: 0.9205\n",
            "Epoch 10/20\n",
            "220/220 [==============================] - 16s 71ms/step - loss: 0.2092 - accuracy: 0.9248\n",
            "Epoch 11/20\n",
            "220/220 [==============================] - 16s 71ms/step - loss: 0.2074 - accuracy: 0.9229\n",
            "Epoch 12/20\n",
            "220/220 [==============================] - 16s 72ms/step - loss: 0.1981 - accuracy: 0.9258\n",
            "Epoch 13/20\n",
            "220/220 [==============================] - 15s 68ms/step - loss: 0.2086 - accuracy: 0.9234\n",
            "Epoch 14/20\n",
            "220/220 [==============================] - 16s 71ms/step - loss: 0.2026 - accuracy: 0.9249\n",
            "Epoch 15/20\n",
            "220/220 [==============================] - 16s 71ms/step - loss: 0.1931 - accuracy: 0.9283\n",
            "Epoch 16/20\n",
            "220/220 [==============================] - 16s 73ms/step - loss: 0.1979 - accuracy: 0.9225\n",
            "Epoch 17/20\n",
            "220/220 [==============================] - 16s 72ms/step - loss: 0.1934 - accuracy: 0.9296\n",
            "Epoch 18/20\n",
            "220/220 [==============================] - 16s 71ms/step - loss: 0.1922 - accuracy: 0.9269\n",
            "Epoch 19/20\n",
            "220/220 [==============================] - 16s 73ms/step - loss: 0.1858 - accuracy: 0.9283\n",
            "Epoch 20/20\n",
            "220/220 [==============================] - 16s 71ms/step - loss: 0.1978 - accuracy: 0.9259\n"
          ]
        }
      ]
    },
    {
      "cell_type": "code",
      "source": [
        "history.history"
      ],
      "metadata": {
        "colab": {
          "base_uri": "https://localhost:8080/"
        },
        "id": "yp5Bm_0Lf6SO",
        "outputId": "b7fe7e33-c6cf-4bac-f513-98c81572156f"
      },
      "execution_count": 20,
      "outputs": [
        {
          "output_type": "execute_result",
          "data": {
            "text/plain": [
              "{'loss': [0.32146769762039185,\n",
              "  0.28577253222465515,\n",
              "  0.257553368806839,\n",
              "  0.23974131047725677,\n",
              "  0.2320767343044281,\n",
              "  0.22397370636463165,\n",
              "  0.21834826469421387,\n",
              "  0.21522673964500427,\n",
              "  0.21484144032001495,\n",
              "  0.20920690894126892,\n",
              "  0.20743098855018616,\n",
              "  0.1981435865163803,\n",
              "  0.20855076611042023,\n",
              "  0.20257556438446045,\n",
              "  0.19313567876815796,\n",
              "  0.19793161749839783,\n",
              "  0.19340185821056366,\n",
              "  0.19220729172229767,\n",
              "  0.1858021467924118,\n",
              "  0.19779060781002045],\n",
              " 'accuracy': [0.887546181678772,\n",
              "  0.8987773656845093,\n",
              "  0.908160388469696,\n",
              "  0.9141313433647156,\n",
              "  0.9162638783454895,\n",
              "  0.9193915128707886,\n",
              "  0.924367368221283,\n",
              "  0.9183963537216187,\n",
              "  0.9205288887023926,\n",
              "  0.9247938394546509,\n",
              "  0.9229456782341003,\n",
              "  0.9257889986038208,\n",
              "  0.923372209072113,\n",
              "  0.9249359965324402,\n",
              "  0.9283480048179626,\n",
              "  0.9225192070007324,\n",
              "  0.929627537727356,\n",
              "  0.9269263744354248,\n",
              "  0.9283480048179626,\n",
              "  0.9259312152862549]}"
            ]
          },
          "metadata": {},
          "execution_count": 20
        }
      ]
    },
    {
      "cell_type": "markdown",
      "source": [
        "##Evaluate the Model"
      ],
      "metadata": {
        "id": "EZDMlFIngUmg"
      }
    },
    {
      "cell_type": "markdown",
      "source": [
        "##Predict the lables"
      ],
      "metadata": {
        "id": "-IfPZPg5gODJ"
      }
    },
    {
      "cell_type": "code",
      "source": [
        "predictions = model.predict(test_dataset, verbose=1)\n",
        "predictions\n",
        "\n"
      ],
      "metadata": {
        "colab": {
          "base_uri": "https://localhost:8080/"
        },
        "id": "251uQJEG0bYB",
        "outputId": "ca813459-6b7c-4188-c8f0-d4394c1166c5"
      },
      "execution_count": 22,
      "outputs": [
        {
          "output_type": "stream",
          "name": "stdout",
          "text": [
            "21/21 [==============================] - 222s 10s/step\n"
          ]
        },
        {
          "output_type": "execute_result",
          "data": {
            "text/plain": [
              "array([[5.28621161e-03, 6.39332120e-06, 3.85731037e-05, 3.85707135e-05,\n",
              "        2.38208798e-07, 9.94629979e-01],\n",
              "       [1.01155259e-04, 2.62816884e-05, 1.93287298e-01, 8.04363191e-01,\n",
              "        2.18763179e-03, 3.44215914e-05],\n",
              "       [9.91151907e-08, 5.18444665e-07, 2.86480617e-02, 9.71343517e-01,\n",
              "        7.73900865e-06, 1.11938611e-07],\n",
              "       ...,\n",
              "       [1.11237824e-07, 1.28263775e-06, 1.36076560e-04, 7.28730884e-05,\n",
              "        9.99789655e-01, 1.62964540e-08],\n",
              "       [1.80555304e-07, 2.78704010e-06, 8.01302784e-04, 5.07768573e-06,\n",
              "        9.99190390e-01, 1.96705130e-07],\n",
              "       [1.17010350e-04, 3.78601511e-10, 1.95324059e-08, 2.10402296e-09,\n",
              "        4.47026610e-10, 9.99882936e-01]], dtype=float32)"
            ]
          },
          "metadata": {},
          "execution_count": 22
        }
      ]
    },
    {
      "cell_type": "code",
      "source": [
        "predictions.shape[0]"
      ],
      "metadata": {
        "colab": {
          "base_uri": "https://localhost:8080/"
        },
        "id": "PQs7VTZrz88o",
        "outputId": "9a26f749-1454-4948-b38b-27f9951e718a"
      },
      "execution_count": 23,
      "outputs": [
        {
          "output_type": "execute_result",
          "data": {
            "text/plain": [
              "643"
            ]
          },
          "metadata": {},
          "execution_count": 23
        }
      ]
    },
    {
      "cell_type": "code",
      "source": [
        "\n",
        "length=predictions.shape[0]\n",
        "int_pred=np.zeros(length)\n",
        "\n",
        "i=0\n",
        "for l in predictions:\n",
        "  int_pred[i]=np.argmax(l)\n",
        "  i+=1\n",
        "  #print(np.argmax(l))\n",
        "int_pred=int_pred.astype('int64')"
      ],
      "metadata": {
        "id": "3TAxElsszXRe"
      },
      "execution_count": 24,
      "outputs": []
    },
    {
      "cell_type": "markdown",
      "source": [
        "### Checking accuracy of the predictions"
      ],
      "metadata": {
        "id": "5KpPHlNcW2Ag"
      }
    },
    {
      "cell_type": "code",
      "source": [
        "from sklearn.metrics import accuracy_score\n",
        "accuracy_score(int_pred,Y_test)"
      ],
      "metadata": {
        "colab": {
          "base_uri": "https://localhost:8080/"
        },
        "id": "aXzGRNi-NKN-",
        "outputId": "34700c74-bf32-4923-9865-9893d00a4518"
      },
      "execution_count": 25,
      "outputs": [
        {
          "output_type": "execute_result",
          "data": {
            "text/plain": [
              "0.9362363919129082"
            ]
          },
          "metadata": {},
          "execution_count": 25
        }
      ]
    },
    {
      "cell_type": "code",
      "source": [
        "for i in range(200,210):\n",
        "\n",
        "  print(\"True Label:\",Y_test[i])\n",
        "  print(\"Predicted Label:\",int_pred[i])"
      ],
      "metadata": {
        "colab": {
          "base_uri": "https://localhost:8080/"
        },
        "id": "QDjxMU-Bc9h3",
        "outputId": "c8bb673e-2104-4bba-cd0d-d96368f97252"
      },
      "execution_count": 32,
      "outputs": [
        {
          "output_type": "stream",
          "name": "stdout",
          "text": [
            "True Label: 3\n",
            "Predicted Label: 3\n",
            "True Label: 5\n",
            "Predicted Label: 5\n",
            "True Label: 3\n",
            "Predicted Label: 3\n",
            "True Label: 1\n",
            "Predicted Label: 1\n",
            "True Label: 5\n",
            "Predicted Label: 5\n",
            "True Label: 5\n",
            "Predicted Label: 5\n",
            "True Label: 5\n",
            "Predicted Label: 5\n",
            "True Label: 3\n",
            "Predicted Label: 3\n",
            "True Label: 2\n",
            "Predicted Label: 2\n",
            "True Label: 4\n",
            "Predicted Label: 4\n"
          ]
        }
      ]
    },
    {
      "cell_type": "code",
      "source": [
        "Image(X_test[200])"
      ],
      "metadata": {
        "colab": {
          "base_uri": "https://localhost:8080/",
          "height": 167
        },
        "id": "VzT3mw7763B1",
        "outputId": "1d1872f9-c759-4bda-e24d-75f5aa3e2faf"
      },
      "execution_count": 31,
      "outputs": [
        {
          "output_type": "execute_result",
          "data": {
            "image/jpeg": "[encoded data removed]",
            "text/plain": [
              "<IPython.core.display.Image object>"
            ]
          },
          "metadata": {},
          "execution_count": 31
        }
      ]
    },
    {
      "cell_type": "code",
      "source": [],
      "metadata": {
        "id": "y4x1PG117evd"
      },
      "execution_count": null,
      "outputs": []
    }
  ]
}